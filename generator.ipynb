{
 "metadata": {
  "language_info": {
   "codemirror_mode": {
    "name": "ipython",
    "version": 3
   },
   "file_extension": ".py",
   "mimetype": "text/x-python",
   "name": "python",
   "nbconvert_exporter": "python",
   "pygments_lexer": "ipython3",
   "version": "3.8.5"
  },
  "orig_nbformat": 2,
  "kernelspec": {
   "name": "python385jvsc74a57bd0dca0ade3e726a953b501b15e8e990130d2b7799f14cfd9f4271676035ebe5511",
   "display_name": "Python 3.8.5 64-bit ('base': conda)"
  }
 },
 "nbformat": 4,
 "nbformat_minor": 2,
 "cells": [
  {
   "source": [
    "# GAN Generator Example"
   ],
   "cell_type": "markdown",
   "metadata": {}
  },
  {
   "cell_type": "code",
   "execution_count": 27,
   "metadata": {},
   "outputs": [],
   "source": [
    "import torch\n",
    "from torch import nn\n",
    "import torch.nn.functional as F"
   ]
  },
  {
   "cell_type": "code",
   "execution_count": 18,
   "metadata": {},
   "outputs": [],
   "source": [
    "# Number of channels in the training images. For color images this is 3\n",
    "nc = 3\n",
    "\n",
    "# Size of z latent vector (i.e. size of generator input)\n",
    "nz = 100\n",
    "\n",
    "# Size of feature maps in generator\n",
    "ngf = 64"
   ]
  },
  {
   "cell_type": "code",
   "execution_count": 34,
   "metadata": {},
   "outputs": [
    {
     "output_type": "execute_result",
     "data": {
      "text/plain": [
       "torch.Size([1, 100, 1, 1])"
      ]
     },
     "metadata": {},
     "execution_count": 34
    }
   ],
   "source": [
    "nz = 100\n",
    "latent_vector = torch.randn(1, nz, 1, 1)\n",
    "latent_vector.shape"
   ]
  },
  {
   "cell_type": "code",
   "execution_count": 35,
   "metadata": {},
   "outputs": [
    {
     "output_type": "execute_result",
     "data": {
      "text/plain": [
       "torch.Size([1, 512, 4, 4])"
      ]
     },
     "metadata": {},
     "execution_count": 35
    }
   ],
   "source": [
    "conv1 = nn.ConvTranspose2d(in_channels=nz, out_channels=(ngf * 8), kernel_size=4, stride=1, padding=0, bias=False)\n",
    "tensor = conv1(latent_vector)\n",
    "tensor.shape"
   ]
  },
  {
   "cell_type": "code",
   "execution_count": 36,
   "metadata": {},
   "outputs": [
    {
     "output_type": "execute_result",
     "data": {
      "text/plain": [
       "torch.Size([1, 512, 4, 4])"
      ]
     },
     "metadata": {},
     "execution_count": 36
    }
   ],
   "source": [
    "batch_norm1 = nn.BatchNorm2d(num_features=(ngf * 8))\n",
    "tensor = batch_norm1(tensor)\n",
    "tensor.shape"
   ]
  },
  {
   "cell_type": "code",
   "execution_count": 37,
   "metadata": {},
   "outputs": [
    {
     "output_type": "execute_result",
     "data": {
      "text/plain": [
       "torch.Size([1, 512, 4, 4])"
      ]
     },
     "metadata": {},
     "execution_count": 37
    }
   ],
   "source": [
    "tensor = F.relu(tensor)\n",
    "tensor.shape"
   ]
  },
  {
   "cell_type": "code",
   "execution_count": 39,
   "metadata": {},
   "outputs": [
    {
     "output_type": "execute_result",
     "data": {
      "text/plain": [
       "torch.Size([1, 256, 8, 8])"
      ]
     },
     "metadata": {},
     "execution_count": 39
    }
   ],
   "source": [
    "conv2 = nn.ConvTranspose2d(in_channels=(ngf * 8), out_channels=(ngf * 4), kernel_size=4, stride=2, padding=1, bias=False)\n",
    "tensor = conv2(tensor)\n",
    "tensor.shape"
   ]
  },
  {
   "cell_type": "code",
   "execution_count": 40,
   "metadata": {},
   "outputs": [
    {
     "output_type": "execute_result",
     "data": {
      "text/plain": [
       "torch.Size([1, 256, 8, 8])"
      ]
     },
     "metadata": {},
     "execution_count": 40
    }
   ],
   "source": [
    "batch_norm2 = nn.BatchNorm2d(num_features=(ngf * 4))\n",
    "tensor = batch_norm2(tensor)\n",
    "tensor.shape"
   ]
  },
  {
   "cell_type": "code",
   "execution_count": 41,
   "metadata": {},
   "outputs": [
    {
     "output_type": "execute_result",
     "data": {
      "text/plain": [
       "torch.Size([1, 256, 8, 8])"
      ]
     },
     "metadata": {},
     "execution_count": 41
    }
   ],
   "source": [
    "tensor = F.relu(tensor)\n",
    "tensor.shape"
   ]
  },
  {
   "cell_type": "code",
   "execution_count": 42,
   "metadata": {},
   "outputs": [
    {
     "output_type": "execute_result",
     "data": {
      "text/plain": [
       "torch.Size([1, 128, 16, 16])"
      ]
     },
     "metadata": {},
     "execution_count": 42
    }
   ],
   "source": [
    "conv3 = nn.ConvTranspose2d(in_channels=(ngf * 4), out_channels=(ngf * 2), kernel_size=4, stride=2, padding=1, bias=False)\n",
    "tensor = conv3(tensor)\n",
    "tensor.shape"
   ]
  },
  {
   "cell_type": "code",
   "execution_count": 43,
   "metadata": {},
   "outputs": [
    {
     "output_type": "execute_result",
     "data": {
      "text/plain": [
       "torch.Size([1, 128, 16, 16])"
      ]
     },
     "metadata": {},
     "execution_count": 43
    }
   ],
   "source": [
    "batch_norm3 = nn.BatchNorm2d(num_features=(ngf * 2))\n",
    "tensor = batch_norm3(tensor)\n",
    "tensor.shape"
   ]
  },
  {
   "cell_type": "code",
   "execution_count": 44,
   "metadata": {},
   "outputs": [
    {
     "output_type": "execute_result",
     "data": {
      "text/plain": [
       "torch.Size([1, 128, 16, 16])"
      ]
     },
     "metadata": {},
     "execution_count": 44
    }
   ],
   "source": [
    "tensor = F.relu(tensor)\n",
    "tensor.shape"
   ]
  },
  {
   "cell_type": "code",
   "execution_count": 45,
   "metadata": {},
   "outputs": [
    {
     "output_type": "execute_result",
     "data": {
      "text/plain": [
       "torch.Size([1, 64, 32, 32])"
      ]
     },
     "metadata": {},
     "execution_count": 45
    }
   ],
   "source": [
    "conv4 = nn.ConvTranspose2d(in_channels=(ngf * 2), out_channels=(ngf * 1), kernel_size=4, stride=2, padding=1, bias=False)\n",
    "tensor = conv4(tensor)\n",
    "tensor.shape"
   ]
  },
  {
   "cell_type": "code",
   "execution_count": 46,
   "metadata": {},
   "outputs": [
    {
     "output_type": "execute_result",
     "data": {
      "text/plain": [
       "torch.Size([1, 64, 32, 32])"
      ]
     },
     "metadata": {},
     "execution_count": 46
    }
   ],
   "source": [
    "batch_norm4 = nn.BatchNorm2d(num_features=(ngf * 1))\n",
    "tensor = batch_norm4(tensor)\n",
    "tensor.shape"
   ]
  },
  {
   "cell_type": "code",
   "execution_count": 47,
   "metadata": {},
   "outputs": [
    {
     "output_type": "execute_result",
     "data": {
      "text/plain": [
       "torch.Size([1, 64, 32, 32])"
      ]
     },
     "metadata": {},
     "execution_count": 47
    }
   ],
   "source": [
    "tensor = F.relu(tensor)\n",
    "tensor.shape"
   ]
  },
  {
   "cell_type": "code",
   "execution_count": 48,
   "metadata": {},
   "outputs": [
    {
     "output_type": "execute_result",
     "data": {
      "text/plain": [
       "torch.Size([1, 3, 64, 64])"
      ]
     },
     "metadata": {},
     "execution_count": 48
    }
   ],
   "source": [
    "conv5 = nn.ConvTranspose2d(in_channels=(ngf * 1), out_channels=nc, kernel_size=4, stride=2, padding=1, bias=False)\n",
    "tensor = conv5(tensor)\n",
    "tensor.shape"
   ]
  },
  {
   "cell_type": "code",
   "execution_count": 49,
   "metadata": {},
   "outputs": [
    {
     "output_type": "stream",
     "name": "stderr",
     "text": [
      "/opt/anaconda3/lib/python3.8/site-packages/torch/nn/functional.py:1628: UserWarning: nn.functional.tanh is deprecated. Use torch.tanh instead.\n  warnings.warn(\"nn.functional.tanh is deprecated. Use torch.tanh instead.\")\n"
     ]
    },
    {
     "output_type": "execute_result",
     "data": {
      "text/plain": [
       "torch.Size([1, 3, 64, 64])"
      ]
     },
     "metadata": {},
     "execution_count": 49
    }
   ],
   "source": [
    "tensor = torch.tanh(tensor)\n",
    "tensor.shape"
   ]
  },
  {
   "cell_type": "code",
   "execution_count": 55,
   "metadata": {},
   "outputs": [
    {
     "output_type": "stream",
     "name": "stderr",
     "text": [
      "Clipping input data to the valid range for imshow with RGB data ([0..1] for floats or [0..255] for integers).\n"
     ]
    },
    {
     "output_type": "execute_result",
     "data": {
      "text/plain": [
       "<matplotlib.image.AxesImage at 0x7facec22be80>"
      ]
     },
     "metadata": {},
     "execution_count": 55
    },
    {
     "output_type": "display_data",
     "data": {
      "text/plain": "<Figure size 432x288 with 1 Axes>",
      "image/svg+xml": "<?xml version=\"1.0\" encoding=\"utf-8\" standalone=\"no\"?>\n<!DOCTYPE svg PUBLIC \"-//W3C//DTD SVG 1.1//EN\"\n  \"http://www.w3.org/Graphics/SVG/1.1/DTD/svg11.dtd\">\n<!-- Created with matplotlib (https://matplotlib.org/) -->\n<svg height=\"250.618594pt\" version=\"1.1\" viewBox=\"0 0 251.565 250.618594\" width=\"251.565pt\" xmlns=\"http://www.w3.org/2000/svg\" xmlns:xlink=\"http://www.w3.org/1999/xlink\">\n <metadata>\n  <rdf:RDF xmlns:cc=\"http://creativecommons.org/ns#\" xmlns:dc=\"http://purl.org/dc/elements/1.1/\" xmlns:rdf=\"http://www.w3.org/1999/02/22-rdf-syntax-ns#\">\n   <cc:Work>\n    <dc:type rdf:resource=\"http://purl.org/dc/dcmitype/StillImage\"/>\n    <dc:date>2021-05-04T16:11:13.306730</dc:date>\n    <dc:format>image/svg+xml</dc:format>\n    <dc:creator>\n     <cc:Agent>\n      <dc:title>Matplotlib v3.3.2, https://matplotlib.org/</dc:title>\n     </cc:Agent>\n    </dc:creator>\n   </cc:Work>\n  </rdf:RDF>\n </metadata>\n <defs>\n  <style type=\"text/css\">*{stroke-linecap:butt;stroke-linejoin:round;}</style>\n </defs>\n <g id=\"figure_1\">\n  <g id=\"patch_1\">\n   <path d=\"M 0 250.618594 \nL 251.565 250.618594 \nL 251.565 0 \nL 0 0 \nz\n\" style=\"fill:none;\"/>\n  </g>\n  <g id=\"axes_1\">\n   <g id=\"patch_2\">\n    <path d=\"M 26.925 226.740469 \nL 244.365 226.740469 \nL 244.365 9.300469 \nL 26.925 9.300469 \nz\n\" style=\"fill:#ffffff;\"/>\n   </g>\n   <g clip-path=\"url(#p51614aa30d)\">\n    <image height=\"218\" id=\"imagecf5e715307\" transform=\"scale(1 -1)translate(0 -218)\" width=\"218\" x=\"26.925\" xlink:href=\"data:image/png;base64,\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\" y=\"-8.740469\"/>\n   </g>\n   <g id=\"matplotlib.axis_1\">\n    <g id=\"xtick_1\">\n     <g id=\"line2d_1\">\n      <defs>\n       <path d=\"M 0 0 \nL 0 3.5 \n\" id=\"m34561916f5\" style=\"stroke:#000000;stroke-width:0.8;\"/>\n      </defs>\n      <g>\n       <use style=\"stroke:#000000;stroke-width:0.8;\" x=\"28.62375\" xlink:href=\"#m34561916f5\" y=\"226.740469\"/>\n      </g>\n     </g>\n     <g id=\"text_1\">\n      <!-- 0 -->\n      <g transform=\"translate(25.4425 241.338906)scale(0.1 -0.1)\">\n       <defs>\n        <path d=\"M 31.78125 66.40625 \nQ 24.171875 66.40625 20.328125 58.90625 \nQ 16.5 51.421875 16.5 36.375 \nQ 16.5 21.390625 20.328125 13.890625 \nQ 24.171875 6.390625 31.78125 6.390625 \nQ 39.453125 6.390625 43.28125 13.890625 \nQ 47.125 21.390625 47.125 36.375 \nQ 47.125 51.421875 43.28125 58.90625 \nQ 39.453125 66.40625 31.78125 66.40625 \nz\nM 31.78125 74.21875 \nQ 44.046875 74.21875 50.515625 64.515625 \nQ 56.984375 54.828125 56.984375 36.375 \nQ 56.984375 17.96875 50.515625 8.265625 \nQ 44.046875 -1.421875 31.78125 -1.421875 \nQ 19.53125 -1.421875 13.0625 8.265625 \nQ 6.59375 17.96875 6.59375 36.375 \nQ 6.59375 54.828125 13.0625 64.515625 \nQ 19.53125 74.21875 31.78125 74.21875 \nz\n\" id=\"DejaVuSans-48\"/>\n       </defs>\n       <use xlink:href=\"#DejaVuSans-48\"/>\n      </g>\n     </g>\n    </g>\n    <g id=\"xtick_2\">\n     <g id=\"line2d_2\">\n      <g>\n       <use style=\"stroke:#000000;stroke-width:0.8;\" x=\"62.59875\" xlink:href=\"#m34561916f5\" y=\"226.740469\"/>\n      </g>\n     </g>\n     <g id=\"text_2\">\n      <!-- 10 -->\n      <g transform=\"translate(56.23625 241.338906)scale(0.1 -0.1)\">\n       <defs>\n        <path d=\"M 12.40625 8.296875 \nL 28.515625 8.296875 \nL 28.515625 63.921875 \nL 10.984375 60.40625 \nL 10.984375 69.390625 \nL 28.421875 72.90625 \nL 38.28125 72.90625 \nL 38.28125 8.296875 \nL 54.390625 8.296875 \nL 54.390625 0 \nL 12.40625 0 \nz\n\" id=\"DejaVuSans-49\"/>\n       </defs>\n       <use xlink:href=\"#DejaVuSans-49\"/>\n       <use x=\"63.623047\" xlink:href=\"#DejaVuSans-48\"/>\n      </g>\n     </g>\n    </g>\n    <g id=\"xtick_3\">\n     <g id=\"line2d_3\">\n      <g>\n       <use style=\"stroke:#000000;stroke-width:0.8;\" x=\"96.57375\" xlink:href=\"#m34561916f5\" y=\"226.740469\"/>\n      </g>\n     </g>\n     <g id=\"text_3\">\n      <!-- 20 -->\n      <g transform=\"translate(90.21125 241.338906)scale(0.1 -0.1)\">\n       <defs>\n        <path d=\"M 19.1875 8.296875 \nL 53.609375 8.296875 \nL 53.609375 0 \nL 7.328125 0 \nL 7.328125 8.296875 \nQ 12.9375 14.109375 22.625 23.890625 \nQ 32.328125 33.6875 34.8125 36.53125 \nQ 39.546875 41.84375 41.421875 45.53125 \nQ 43.3125 49.21875 43.3125 52.78125 \nQ 43.3125 58.59375 39.234375 62.25 \nQ 35.15625 65.921875 28.609375 65.921875 \nQ 23.96875 65.921875 18.8125 64.3125 \nQ 13.671875 62.703125 7.8125 59.421875 \nL 7.8125 69.390625 \nQ 13.765625 71.78125 18.9375 73 \nQ 24.125 74.21875 28.421875 74.21875 \nQ 39.75 74.21875 46.484375 68.546875 \nQ 53.21875 62.890625 53.21875 53.421875 \nQ 53.21875 48.921875 51.53125 44.890625 \nQ 49.859375 40.875 45.40625 35.40625 \nQ 44.1875 33.984375 37.640625 27.21875 \nQ 31.109375 20.453125 19.1875 8.296875 \nz\n\" id=\"DejaVuSans-50\"/>\n       </defs>\n       <use xlink:href=\"#DejaVuSans-50\"/>\n       <use x=\"63.623047\" xlink:href=\"#DejaVuSans-48\"/>\n      </g>\n     </g>\n    </g>\n    <g id=\"xtick_4\">\n     <g id=\"line2d_4\">\n      <g>\n       <use style=\"stroke:#000000;stroke-width:0.8;\" x=\"130.54875\" xlink:href=\"#m34561916f5\" y=\"226.740469\"/>\n      </g>\n     </g>\n     <g id=\"text_4\">\n      <!-- 30 -->\n      <g transform=\"translate(124.18625 241.338906)scale(0.1 -0.1)\">\n       <defs>\n        <path d=\"M 40.578125 39.3125 \nQ 47.65625 37.796875 51.625 33 \nQ 55.609375 28.21875 55.609375 21.1875 \nQ 55.609375 10.40625 48.1875 4.484375 \nQ 40.765625 -1.421875 27.09375 -1.421875 \nQ 22.515625 -1.421875 17.65625 -0.515625 \nQ 12.796875 0.390625 7.625 2.203125 \nL 7.625 11.71875 \nQ 11.71875 9.328125 16.59375 8.109375 \nQ 21.484375 6.890625 26.8125 6.890625 \nQ 36.078125 6.890625 40.9375 10.546875 \nQ 45.796875 14.203125 45.796875 21.1875 \nQ 45.796875 27.640625 41.28125 31.265625 \nQ 36.765625 34.90625 28.71875 34.90625 \nL 20.21875 34.90625 \nL 20.21875 43.015625 \nL 29.109375 43.015625 \nQ 36.375 43.015625 40.234375 45.921875 \nQ 44.09375 48.828125 44.09375 54.296875 \nQ 44.09375 59.90625 40.109375 62.90625 \nQ 36.140625 65.921875 28.71875 65.921875 \nQ 24.65625 65.921875 20.015625 65.03125 \nQ 15.375 64.15625 9.8125 62.3125 \nL 9.8125 71.09375 \nQ 15.4375 72.65625 20.34375 73.4375 \nQ 25.25 74.21875 29.59375 74.21875 \nQ 40.828125 74.21875 47.359375 69.109375 \nQ 53.90625 64.015625 53.90625 55.328125 \nQ 53.90625 49.265625 50.4375 45.09375 \nQ 46.96875 40.921875 40.578125 39.3125 \nz\n\" id=\"DejaVuSans-51\"/>\n       </defs>\n       <use xlink:href=\"#DejaVuSans-51\"/>\n       <use x=\"63.623047\" xlink:href=\"#DejaVuSans-48\"/>\n      </g>\n     </g>\n    </g>\n    <g id=\"xtick_5\">\n     <g id=\"line2d_5\">\n      <g>\n       <use style=\"stroke:#000000;stroke-width:0.8;\" x=\"164.52375\" xlink:href=\"#m34561916f5\" y=\"226.740469\"/>\n      </g>\n     </g>\n     <g id=\"text_5\">\n      <!-- 40 -->\n      <g transform=\"translate(158.16125 241.338906)scale(0.1 -0.1)\">\n       <defs>\n        <path d=\"M 37.796875 64.3125 \nL 12.890625 25.390625 \nL 37.796875 25.390625 \nz\nM 35.203125 72.90625 \nL 47.609375 72.90625 \nL 47.609375 25.390625 \nL 58.015625 25.390625 \nL 58.015625 17.1875 \nL 47.609375 17.1875 \nL 47.609375 0 \nL 37.796875 0 \nL 37.796875 17.1875 \nL 4.890625 17.1875 \nL 4.890625 26.703125 \nz\n\" id=\"DejaVuSans-52\"/>\n       </defs>\n       <use xlink:href=\"#DejaVuSans-52\"/>\n       <use x=\"63.623047\" xlink:href=\"#DejaVuSans-48\"/>\n      </g>\n     </g>\n    </g>\n    <g id=\"xtick_6\">\n     <g id=\"line2d_6\">\n      <g>\n       <use style=\"stroke:#000000;stroke-width:0.8;\" x=\"198.49875\" xlink:href=\"#m34561916f5\" y=\"226.740469\"/>\n      </g>\n     </g>\n     <g id=\"text_6\">\n      <!-- 50 -->\n      <g transform=\"translate(192.13625 241.338906)scale(0.1 -0.1)\">\n       <defs>\n        <path d=\"M 10.796875 72.90625 \nL 49.515625 72.90625 \nL 49.515625 64.59375 \nL 19.828125 64.59375 \nL 19.828125 46.734375 \nQ 21.96875 47.46875 24.109375 47.828125 \nQ 26.265625 48.1875 28.421875 48.1875 \nQ 40.625 48.1875 47.75 41.5 \nQ 54.890625 34.8125 54.890625 23.390625 \nQ 54.890625 11.625 47.5625 5.09375 \nQ 40.234375 -1.421875 26.90625 -1.421875 \nQ 22.3125 -1.421875 17.546875 -0.640625 \nQ 12.796875 0.140625 7.71875 1.703125 \nL 7.71875 11.625 \nQ 12.109375 9.234375 16.796875 8.0625 \nQ 21.484375 6.890625 26.703125 6.890625 \nQ 35.15625 6.890625 40.078125 11.328125 \nQ 45.015625 15.765625 45.015625 23.390625 \nQ 45.015625 31 40.078125 35.4375 \nQ 35.15625 39.890625 26.703125 39.890625 \nQ 22.75 39.890625 18.8125 39.015625 \nQ 14.890625 38.140625 10.796875 36.28125 \nz\n\" id=\"DejaVuSans-53\"/>\n       </defs>\n       <use xlink:href=\"#DejaVuSans-53\"/>\n       <use x=\"63.623047\" xlink:href=\"#DejaVuSans-48\"/>\n      </g>\n     </g>\n    </g>\n    <g id=\"xtick_7\">\n     <g id=\"line2d_7\">\n      <g>\n       <use style=\"stroke:#000000;stroke-width:0.8;\" x=\"232.47375\" xlink:href=\"#m34561916f5\" y=\"226.740469\"/>\n      </g>\n     </g>\n     <g id=\"text_7\">\n      <!-- 60 -->\n      <g transform=\"translate(226.11125 241.338906)scale(0.1 -0.1)\">\n       <defs>\n        <path d=\"M 33.015625 40.375 \nQ 26.375 40.375 22.484375 35.828125 \nQ 18.609375 31.296875 18.609375 23.390625 \nQ 18.609375 15.53125 22.484375 10.953125 \nQ 26.375 6.390625 33.015625 6.390625 \nQ 39.65625 6.390625 43.53125 10.953125 \nQ 47.40625 15.53125 47.40625 23.390625 \nQ 47.40625 31.296875 43.53125 35.828125 \nQ 39.65625 40.375 33.015625 40.375 \nz\nM 52.59375 71.296875 \nL 52.59375 62.3125 \nQ 48.875 64.0625 45.09375 64.984375 \nQ 41.3125 65.921875 37.59375 65.921875 \nQ 27.828125 65.921875 22.671875 59.328125 \nQ 17.53125 52.734375 16.796875 39.40625 \nQ 19.671875 43.65625 24.015625 45.921875 \nQ 28.375 48.1875 33.59375 48.1875 \nQ 44.578125 48.1875 50.953125 41.515625 \nQ 57.328125 34.859375 57.328125 23.390625 \nQ 57.328125 12.15625 50.6875 5.359375 \nQ 44.046875 -1.421875 33.015625 -1.421875 \nQ 20.359375 -1.421875 13.671875 8.265625 \nQ 6.984375 17.96875 6.984375 36.375 \nQ 6.984375 53.65625 15.1875 63.9375 \nQ 23.390625 74.21875 37.203125 74.21875 \nQ 40.921875 74.21875 44.703125 73.484375 \nQ 48.484375 72.75 52.59375 71.296875 \nz\n\" id=\"DejaVuSans-54\"/>\n       </defs>\n       <use xlink:href=\"#DejaVuSans-54\"/>\n       <use x=\"63.623047\" xlink:href=\"#DejaVuSans-48\"/>\n      </g>\n     </g>\n    </g>\n   </g>\n   <g id=\"matplotlib.axis_2\">\n    <g id=\"ytick_1\">\n     <g id=\"line2d_8\">\n      <defs>\n       <path d=\"M 0 0 \nL -3.5 0 \n\" id=\"mc30bd71d70\" style=\"stroke:#000000;stroke-width:0.8;\"/>\n      </defs>\n      <g>\n       <use style=\"stroke:#000000;stroke-width:0.8;\" x=\"26.925\" xlink:href=\"#mc30bd71d70\" y=\"10.999219\"/>\n      </g>\n     </g>\n     <g id=\"text_8\">\n      <!-- 0 -->\n      <g transform=\"translate(13.5625 14.798437)scale(0.1 -0.1)\">\n       <use xlink:href=\"#DejaVuSans-48\"/>\n      </g>\n     </g>\n    </g>\n    <g id=\"ytick_2\">\n     <g id=\"line2d_9\">\n      <g>\n       <use style=\"stroke:#000000;stroke-width:0.8;\" x=\"26.925\" xlink:href=\"#mc30bd71d70\" y=\"44.974219\"/>\n      </g>\n     </g>\n     <g id=\"text_9\">\n      <!-- 10 -->\n      <g transform=\"translate(7.2 48.773437)scale(0.1 -0.1)\">\n       <use xlink:href=\"#DejaVuSans-49\"/>\n       <use x=\"63.623047\" xlink:href=\"#DejaVuSans-48\"/>\n      </g>\n     </g>\n    </g>\n    <g id=\"ytick_3\">\n     <g id=\"line2d_10\">\n      <g>\n       <use style=\"stroke:#000000;stroke-width:0.8;\" x=\"26.925\" xlink:href=\"#mc30bd71d70\" y=\"78.949219\"/>\n      </g>\n     </g>\n     <g id=\"text_10\">\n      <!-- 20 -->\n      <g transform=\"translate(7.2 82.748437)scale(0.1 -0.1)\">\n       <use xlink:href=\"#DejaVuSans-50\"/>\n       <use x=\"63.623047\" xlink:href=\"#DejaVuSans-48\"/>\n      </g>\n     </g>\n    </g>\n    <g id=\"ytick_4\">\n     <g id=\"line2d_11\">\n      <g>\n       <use style=\"stroke:#000000;stroke-width:0.8;\" x=\"26.925\" xlink:href=\"#mc30bd71d70\" y=\"112.924219\"/>\n      </g>\n     </g>\n     <g id=\"text_11\">\n      <!-- 30 -->\n      <g transform=\"translate(7.2 116.723437)scale(0.1 -0.1)\">\n       <use xlink:href=\"#DejaVuSans-51\"/>\n       <use x=\"63.623047\" xlink:href=\"#DejaVuSans-48\"/>\n      </g>\n     </g>\n    </g>\n    <g id=\"ytick_5\">\n     <g id=\"line2d_12\">\n      <g>\n       <use style=\"stroke:#000000;stroke-width:0.8;\" x=\"26.925\" xlink:href=\"#mc30bd71d70\" y=\"146.899219\"/>\n      </g>\n     </g>\n     <g id=\"text_12\">\n      <!-- 40 -->\n      <g transform=\"translate(7.2 150.698437)scale(0.1 -0.1)\">\n       <use xlink:href=\"#DejaVuSans-52\"/>\n       <use x=\"63.623047\" xlink:href=\"#DejaVuSans-48\"/>\n      </g>\n     </g>\n    </g>\n    <g id=\"ytick_6\">\n     <g id=\"line2d_13\">\n      <g>\n       <use style=\"stroke:#000000;stroke-width:0.8;\" x=\"26.925\" xlink:href=\"#mc30bd71d70\" y=\"180.874219\"/>\n      </g>\n     </g>\n     <g id=\"text_13\">\n      <!-- 50 -->\n      <g transform=\"translate(7.2 184.673437)scale(0.1 -0.1)\">\n       <use xlink:href=\"#DejaVuSans-53\"/>\n       <use x=\"63.623047\" xlink:href=\"#DejaVuSans-48\"/>\n      </g>\n     </g>\n    </g>\n    <g id=\"ytick_7\">\n     <g id=\"line2d_14\">\n      <g>\n       <use style=\"stroke:#000000;stroke-width:0.8;\" x=\"26.925\" xlink:href=\"#mc30bd71d70\" y=\"214.849219\"/>\n      </g>\n     </g>\n     <g id=\"text_14\">\n      <!-- 60 -->\n      <g transform=\"translate(7.2 218.648437)scale(0.1 -0.1)\">\n       <use xlink:href=\"#DejaVuSans-54\"/>\n       <use x=\"63.623047\" xlink:href=\"#DejaVuSans-48\"/>\n      </g>\n     </g>\n    </g>\n   </g>\n   <g id=\"patch_3\">\n    <path d=\"M 26.925 226.740469 \nL 26.925 9.300469 \n\" style=\"fill:none;stroke:#000000;stroke-linecap:square;stroke-linejoin:miter;stroke-width:0.8;\"/>\n   </g>\n   <g id=\"patch_4\">\n    <path d=\"M 244.365 226.740469 \nL 244.365 9.300469 \n\" style=\"fill:none;stroke:#000000;stroke-linecap:square;stroke-linejoin:miter;stroke-width:0.8;\"/>\n   </g>\n   <g id=\"patch_5\">\n    <path d=\"M 26.925 226.740469 \nL 244.365 226.740469 \n\" style=\"fill:none;stroke:#000000;stroke-linecap:square;stroke-linejoin:miter;stroke-width:0.8;\"/>\n   </g>\n   <g id=\"patch_6\">\n    <path d=\"M 26.925 9.300469 \nL 244.365 9.300469 \n\" style=\"fill:none;stroke:#000000;stroke-linecap:square;stroke-linejoin:miter;stroke-width:0.8;\"/>\n   </g>\n  </g>\n </g>\n <defs>\n  <clipPath id=\"p51614aa30d\">\n   <rect height=\"217.44\" width=\"217.44\" x=\"26.925\" y=\"9.300469\"/>\n  </clipPath>\n </defs>\n</svg>\n",
      "image/png": "[encoded data removed]"
     },
     "metadata": {
      "needs_background": "light"
     }
    }
   ],
   "source": [
    "import matplotlib.pyplot as plt\n",
    "%matplotlib inline\n",
    "\n",
    "image = tensor.squeeze(0).detach()\n",
    "\n",
    "plt.imshow(image.permute(1, 2, 0).numpy())"
   ]
  },
  {
   "cell_type": "code",
   "execution_count": null,
   "metadata": {},
   "outputs": [],
   "source": []
  }
 ]
}