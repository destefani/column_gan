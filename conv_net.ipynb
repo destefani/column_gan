{
 "metadata": {
  "language_info": {
   "codemirror_mode": {
    "name": "ipython",
    "version": 3
   },
   "file_extension": ".py",
   "mimetype": "text/x-python",
   "name": "python",
   "nbconvert_exporter": "python",
   "pygments_lexer": "ipython3",
   "version": "3.8.5"
  },
  "orig_nbformat": 2,
  "kernelspec": {
   "name": "python385jvsc74a57bd0dca0ade3e726a953b501b15e8e990130d2b7799f14cfd9f4271676035ebe5511",
   "display_name": "Python 3.8.5 64-bit ('base': conda)"
  }
 },
 "nbformat": 4,
 "nbformat_minor": 2,
 "cells": [
  {
   "cell_type": "code",
   "execution_count": 3,
   "metadata": {},
   "outputs": [],
   "source": [
    "import torch\n",
    "from torch import nn"
   ]
  },
  {
   "cell_type": "code",
   "execution_count": 38,
   "metadata": {},
   "outputs": [
    {
     "output_type": "execute_result",
     "data": {
      "text/plain": [
       "torch.Size([1, 3, 256, 64])"
      ]
     },
     "metadata": {},
     "execution_count": 38
    }
   ],
   "source": [
    "random_tensor = torch.randn(1, 3, 256, 64)\n",
    "random_tensor.size()"
   ]
  },
  {
   "cell_type": "code",
   "execution_count": 39,
   "metadata": {},
   "outputs": [
    {
     "output_type": "execute_result",
     "data": {
      "text/plain": [
       "torch.Size([1, 6, 252, 60])"
      ]
     },
     "metadata": {},
     "execution_count": 39
    }
   ],
   "source": [
    "conv1 = nn.Conv2d(in_channels=3, out_channels=6, kernel_size=5)\n",
    "tensor = conv1(random_tensor)\n",
    "tensor.size()\n"
   ]
  },
  {
   "cell_type": "code",
   "execution_count": 40,
   "metadata": {},
   "outputs": [
    {
     "output_type": "execute_result",
     "data": {
      "text/plain": [
       "torch.Size([1, 12, 248, 56])"
      ]
     },
     "metadata": {},
     "execution_count": 40
    }
   ],
   "source": [
    "conv2 = nn.Conv2d(in_channels=6, out_channels=12, kernel_size=5)\n",
    "tensor = conv2(tensor)\n",
    "tensor.size()\n",
    "\n"
   ]
  },
  {
   "cell_type": "code",
   "execution_count": 48,
   "metadata": {},
   "outputs": [
    {
     "output_type": "execute_result",
     "data": {
      "text/plain": [
       "torch.Size([1, 166656])"
      ]
     },
     "metadata": {},
     "execution_count": 48
    }
   ],
   "source": [
    "tensor = tensor.reshape(-1, 12 * 248 * 56)\n",
    "tensor.shape"
   ]
  },
  {
   "cell_type": "code",
   "execution_count": 51,
   "metadata": {},
   "outputs": [
    {
     "output_type": "execute_result",
     "data": {
      "text/plain": [
       "torch.Size([1, 120])"
      ]
     },
     "metadata": {},
     "execution_count": 51
    }
   ],
   "source": [
    "fc1 = nn.Linear(in_features=(12 * 248 * 56), out_features=120)\n",
    "tensor = fc1(tensor)\n",
    "tensor.shape"
   ]
  },
  {
   "cell_type": "code",
   "execution_count": null,
   "metadata": {},
   "outputs": [],
   "source": [
    "77"
   ]
  }
 ]
}