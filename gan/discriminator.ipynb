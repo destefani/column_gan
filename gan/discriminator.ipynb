{
 "metadata": {
  "language_info": {
   "codemirror_mode": {
    "name": "ipython",
    "version": 3
   },
   "file_extension": ".py",
   "mimetype": "text/x-python",
   "name": "python",
   "nbconvert_exporter": "python",
   "pygments_lexer": "ipython3",
   "version": "3.8.5"
  },
  "orig_nbformat": 2,
  "kernelspec": {
   "name": "python385jvsc74a57bd0dca0ade3e726a953b501b15e8e990130d2b7799f14cfd9f4271676035ebe5511",
   "display_name": "Python 3.8.5 64-bit ('base': conda)"
  }
 },
 "nbformat": 4,
 "nbformat_minor": 2,
 "cells": [
  {
   "source": [
    "# Gan Discriminator Example"
   ],
   "cell_type": "markdown",
   "metadata": {}
  },
  {
   "cell_type": "code",
   "execution_count": 54,
   "metadata": {},
   "outputs": [],
   "source": [
    "import torch\n",
    "from torch import nn\n",
    "import torch.nn.functional as F"
   ]
  },
  {
   "cell_type": "code",
   "execution_count": 55,
   "metadata": {},
   "outputs": [],
   "source": [
    "# Number of channels in the training images. For color images this is 3\n",
    "nc = 3\n",
    "\n",
    "# Size of z latent vector (i.e. size of generator input)\n",
    "nz = 100\n",
    "\n",
    "# Size of feature maps in generator\n",
    "ngf = 64\n",
    "\n",
    "# Size of feature maps in discriminator\n",
    "ndf = 64\n"
   ]
  },
  {
   "cell_type": "code",
   "execution_count": 77,
   "metadata": {},
   "outputs": [
    {
     "output_type": "execute_result",
     "data": {
      "text/plain": [
       "torch.Size([1, 3, 64, 64])"
      ]
     },
     "metadata": {},
     "execution_count": 77
    }
   ],
   "source": [
    "tensor = torch.randn(1, nc, 64, 64)\n",
    "tensor.shape"
   ]
  },
  {
   "cell_type": "code",
   "execution_count": 78,
   "metadata": {},
   "outputs": [
    {
     "output_type": "execute_result",
     "data": {
      "text/plain": [
       "torch.Size([1, 64, 32, 32])"
      ]
     },
     "metadata": {},
     "execution_count": 78
    }
   ],
   "source": [
    "conv1 = nn.Conv2d(in_channels=nc, out_channels=ndf, kernel_size=4, stride=2, padding=1, bias=False)\n",
    "tensor = conv1(tensor)\n",
    "tensor.shape"
   ]
  },
  {
   "cell_type": "code",
   "execution_count": 58,
   "metadata": {},
   "outputs": [
    {
     "output_type": "execute_result",
     "data": {
      "text/plain": [
       "torch.Size([1, 64, 61, 61])"
      ]
     },
     "metadata": {},
     "execution_count": 58
    }
   ],
   "source": [
    "tensor = F.leaky_relu(tensor, negative_slope=0.2)\n",
    "tensor.shape"
   ]
  },
  {
   "cell_type": "code",
   "execution_count": 79,
   "metadata": {},
   "outputs": [
    {
     "output_type": "execute_result",
     "data": {
      "text/plain": [
       "torch.Size([1, 128, 16, 16])"
      ]
     },
     "metadata": {},
     "execution_count": 79
    }
   ],
   "source": [
    "conv2 = nn.Conv2d(in_channels=ndf, out_channels=(ndf * 2), kernel_size=4, stride=2, padding=1, bias=False)\n",
    "tensor = conv2(tensor)\n",
    "tensor.shape"
   ]
  },
  {
   "cell_type": "code",
   "execution_count": 80,
   "metadata": {},
   "outputs": [
    {
     "output_type": "execute_result",
     "data": {
      "text/plain": [
       "torch.Size([1, 128, 16, 16])"
      ]
     },
     "metadata": {},
     "execution_count": 80
    }
   ],
   "source": [
    "batch_norm2 = nn.BatchNorm2d(num_features=(ndf * 2))\n",
    "tensor = batch_norm2(tensor)\n",
    "tensor.shape"
   ]
  },
  {
   "cell_type": "code",
   "execution_count": 81,
   "metadata": {},
   "outputs": [
    {
     "output_type": "execute_result",
     "data": {
      "text/plain": [
       "torch.Size([1, 128, 16, 16])"
      ]
     },
     "metadata": {},
     "execution_count": 81
    }
   ],
   "source": [
    "tensor = F.leaky_relu(tensor, negative_slope=0.2)\n",
    "tensor.shape"
   ]
  },
  {
   "cell_type": "code",
   "execution_count": 82,
   "metadata": {},
   "outputs": [
    {
     "output_type": "execute_result",
     "data": {
      "text/plain": [
       "torch.Size([1, 256, 8, 8])"
      ]
     },
     "metadata": {},
     "execution_count": 82
    }
   ],
   "source": [
    "conv3 = nn.Conv2d(in_channels=(ndf * 2), out_channels=(ndf * 4), kernel_size=4, stride=2, padding=1, bias=False)\n",
    "tensor = conv3(tensor)\n",
    "tensor.shape"
   ]
  },
  {
   "cell_type": "code",
   "execution_count": 83,
   "metadata": {},
   "outputs": [
    {
     "output_type": "execute_result",
     "data": {
      "text/plain": [
       "torch.Size([1, 256, 8, 8])"
      ]
     },
     "metadata": {},
     "execution_count": 83
    }
   ],
   "source": [
    "batch_norm3 = nn.BatchNorm2d(num_features=(ndf * 4))\n",
    "tensor = batch_norm3(tensor)\n",
    "tensor.shape"
   ]
  },
  {
   "cell_type": "code",
   "execution_count": 84,
   "metadata": {},
   "outputs": [
    {
     "output_type": "execute_result",
     "data": {
      "text/plain": [
       "torch.Size([1, 256, 8, 8])"
      ]
     },
     "metadata": {},
     "execution_count": 84
    }
   ],
   "source": [
    "tensor = F.leaky_relu(tensor, negative_slope=0.2)\n",
    "tensor.shape"
   ]
  },
  {
   "cell_type": "code",
   "execution_count": 85,
   "metadata": {},
   "outputs": [
    {
     "output_type": "execute_result",
     "data": {
      "text/plain": [
       "torch.Size([1, 512, 4, 4])"
      ]
     },
     "metadata": {},
     "execution_count": 85
    }
   ],
   "source": [
    "conv4 = nn.Conv2d(in_channels=(ndf * 4), out_channels=(ndf * 8), kernel_size=4, stride=2, padding=1, bias=False)\n",
    "tensor = conv4(tensor)\n",
    "tensor.shape"
   ]
  },
  {
   "cell_type": "code",
   "execution_count": 86,
   "metadata": {},
   "outputs": [
    {
     "output_type": "execute_result",
     "data": {
      "text/plain": [
       "torch.Size([1, 512, 4, 4])"
      ]
     },
     "metadata": {},
     "execution_count": 86
    }
   ],
   "source": [
    "batch_norm4 = nn.BatchNorm2d(num_features=(ndf * 8))\n",
    "tensor = batch_norm4(tensor)\n",
    "tensor.shape"
   ]
  },
  {
   "cell_type": "code",
   "execution_count": 87,
   "metadata": {},
   "outputs": [
    {
     "output_type": "execute_result",
     "data": {
      "text/plain": [
       "torch.Size([1, 512, 4, 4])"
      ]
     },
     "metadata": {},
     "execution_count": 87
    }
   ],
   "source": [
    "tensor = F.leaky_relu(tensor, negative_slope=0.2)\n",
    "tensor.shape"
   ]
  },
  {
   "cell_type": "code",
   "execution_count": 88,
   "metadata": {},
   "outputs": [
    {
     "output_type": "execute_result",
     "data": {
      "text/plain": [
       "torch.Size([1, 1, 1, 1])"
      ]
     },
     "metadata": {},
     "execution_count": 88
    }
   ],
   "source": [
    "conv5 = nn.Conv2d(in_channels=(ndf * 8), out_channels=1, kernel_size=4, stride=1, padding=0, bias=False)\n",
    "tensor = conv5(tensor)\n",
    "tensor.shape"
   ]
  },
  {
   "cell_type": "code",
   "execution_count": 89,
   "metadata": {},
   "outputs": [
    {
     "output_type": "execute_result",
     "data": {
      "text/plain": [
       "torch.Size([1, 1, 1, 1])"
      ]
     },
     "metadata": {},
     "execution_count": 89
    }
   ],
   "source": [
    "sigmoid = nn.Sigmoid()\n",
    "tensor = sigmoid(tensor)\n",
    "tensor.shape"
   ]
  },
  {
   "cell_type": "code",
   "execution_count": 92,
   "metadata": {},
   "outputs": [
    {
     "output_type": "execute_result",
     "data": {
      "text/plain": [
       "tensor([[[[0.5316]]]], grad_fn=<SigmoidBackward>)"
      ]
     },
     "metadata": {},
     "execution_count": 92
    }
   ],
   "source": [
    "tensor"
   ]
  }
 ]
}